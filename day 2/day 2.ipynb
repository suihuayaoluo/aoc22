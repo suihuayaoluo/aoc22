{
 "cells": [
  {
   "cell_type": "code",
   "execution_count": 18,
   "id": "bc51ed85",
   "metadata": {},
   "outputs": [
    {
     "name": "stdout",
     "output_type": "stream",
     "text": [
      "10624\n"
     ]
    }
   ],
   "source": [
    "def point(n):\n",
    "    if n == \"X\":\n",
    "        return 1\n",
    "    elif n == \"Y\":\n",
    "        return 2\n",
    "    elif n == \"Z\":\n",
    "        return 3\n",
    "    \n",
    "def match(i,j):\n",
    "    if i == \"A\":\n",
    "        if j == \"X\":\n",
    "            return 3\n",
    "        elif j == \"Y\":\n",
    "            return 6\n",
    "        elif j == \"Z\":\n",
    "            return 0\n",
    "    elif i == \"B\":\n",
    "        if j == \"X\":\n",
    "            return 0\n",
    "        elif j == \"Y\":\n",
    "            return 3\n",
    "        elif j == \"Z\":\n",
    "            return 6\n",
    "    elif i == \"C\":\n",
    "        if j == \"X\":\n",
    "            return 6\n",
    "        elif j == \"Y\":\n",
    "            return 0\n",
    "        elif j == \"Z\":\n",
    "            return 3\n",
    "        \n",
    "f = open(\"day2_data.txt\",\"r\")\n",
    "\n",
    "\n",
    "datalist = []\n",
    "player = []\n",
    "opponent = []\n",
    "for i in f:\n",
    "    datalist = i.split()\n",
    "    player.append(datalist[1])\n",
    "    opponent.append(datalist[0])\n",
    "\n",
    "sum = 0\n",
    "for i in range(0, len(player)):\n",
    "    sum = sum + point(player[i]) + match(opponent[i], player[i])\n",
    "    \n",
    "    \n",
    "print (sum)"
   ]
  },
  {
   "cell_type": "code",
   "execution_count": 19,
   "id": "00326dd6",
   "metadata": {},
   "outputs": [
    {
     "name": "stdout",
     "output_type": "stream",
     "text": [
      "14060\n"
     ]
    }
   ],
   "source": [
    "def point(n):\n",
    "    if n == \"X\":\n",
    "        return 0\n",
    "    elif n == \"Y\":\n",
    "        return 3\n",
    "    elif n == \"Z\":\n",
    "        return 6\n",
    "    \n",
    "def match(i,j):\n",
    "    if i == \"A\":\n",
    "        if j == \"X\":\n",
    "            return 3\n",
    "        elif j == \"Y\":\n",
    "            return 1\n",
    "        elif j == \"Z\":\n",
    "            return 2\n",
    "    elif i == \"B\":\n",
    "        if j == \"X\":\n",
    "            return 1\n",
    "        elif j == \"Y\":\n",
    "            return 2\n",
    "        elif j == \"Z\":\n",
    "            return 3\n",
    "    elif i == \"C\":\n",
    "        if j == \"X\":\n",
    "            return 2\n",
    "        elif j == \"Y\":\n",
    "            return 3\n",
    "        elif j == \"Z\":\n",
    "            return 1\n",
    "        \n",
    "f = open(\"day2_data.txt\",\"r\")\n",
    "\n",
    "\n",
    "datalist = []\n",
    "player = []\n",
    "opponent = []\n",
    "for i in f:\n",
    "    datalist = i.split()\n",
    "    player.append(datalist[1])\n",
    "    opponent.append(datalist[0])\n",
    "\n",
    "sum = 0\n",
    "for i in range(0, len(player)):\n",
    "    sum = sum + point(player[i]) + match(opponent[i], player[i])\n",
    "    \n",
    "    \n",
    "print (sum)"
   ]
  },
  {
   "cell_type": "code",
   "execution_count": null,
   "id": "5babc0ce",
   "metadata": {},
   "outputs": [],
   "source": []
  }
 ],
 "metadata": {
  "kernelspec": {
   "display_name": "Python 3 (ipykernel)",
   "language": "python",
   "name": "python3"
  },
  "language_info": {
   "codemirror_mode": {
    "name": "ipython",
    "version": 3
   },
   "file_extension": ".py",
   "mimetype": "text/x-python",
   "name": "python",
   "nbconvert_exporter": "python",
   "pygments_lexer": "ipython3",
   "version": "3.9.7"
  }
 },
 "nbformat": 4,
 "nbformat_minor": 5
}
